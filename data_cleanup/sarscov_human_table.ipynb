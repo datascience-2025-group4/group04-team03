{
 "cells": [
  {
   "cell_type": "code",
   "execution_count": 52,
   "id": "1d264263",
   "metadata": {},
   "outputs": [],
   "source": [
    "import pandas as pd\n",
    "import re\n",
    "import numpy as np\n",
    "\n",
    "#read file as a dataset, separating columns by tabs\n",
    "df = pd.read_csv(\"../data/ab_ag.tsv\", sep = \"\\t\")\n",
    "#removing the columns we do not need\n",
    "df = df.drop(columns=[\"short_header\", \"model\", \"authors\", \"antigen_het_name\", \"organism\", \"resolution\", \"method\", \"r_free\", \"r_factor\", \"affinity\", \"delta_g\", \"affinity_method\", \"pmid\", \"temperature\", \"date\"])\n"
   ]
  },
  {
   "cell_type": "code",
   "execution_count": null,
   "id": "322c2176",
   "metadata": {},
   "outputs": [],
   "source": [
    "#i just copied the cleaning stuff of the table\n",
    "df = df.replace({None: np.nan})\n",
    "\n",
    "# Löschung erfolgt nur wenn mind. 85% NA\n",
    "min_non_na_ratio = 0.15\n",
    "\n",
    "# Berechnung absolute Mindestzahl NA\n",
    "min_non_na_count = int(len(df) * min_non_na_ratio)\n",
    "\n",
    "# Spalten über dem Wert löschen \n",
    "df = df.dropna(axis=1, thresh=min_non_na_count)\n"
   ]
  },
  {
   "cell_type": "code",
   "execution_count": null,
   "id": "7836e4d0",
   "metadata": {},
   "outputs": [
    {
     "name": "stdout",
     "output_type": "stream",
     "text": [
      "       pdb Hchain Lchain antigen_chain       antigen_type  \\\n",
      "0     8wu1      H      L         C | R  protein | protein   \n",
      "1     7xk9      B    NaN             A            protein   \n",
      "2     7xka      B    NaN             A            protein   \n",
      "3     8yzk      C      C             A            protein   \n",
      "4     8yzk      D      D             B            protein   \n",
      "...    ...    ...    ...           ...                ...   \n",
      "3109  8z6s      G      F             B            protein   \n",
      "3110  8z6s      E      D             A            protein   \n",
      "3111  8z6r      I      H             C            protein   \n",
      "3112  8z6r      E      D             A            protein   \n",
      "3113  8ty1      C      B             A            protein   \n",
      "\n",
      "                                           antigen_name  \\\n",
      "0     beta-arrestin-1 | cannabinoid receptor 1,vasop...   \n",
      "1                  endolysin,beta-2 adrenergic receptor   \n",
      "2                  endolysin,beta-2 adrenergic receptor   \n",
      "3     soluble cytochrome b562,g-protein coupled rece...   \n",
      "4     soluble cytochrome b562,g-protein coupled rece...   \n",
      "...                                                 ...   \n",
      "3109         spike glycoprotein,fibritin,expression tag   \n",
      "3110         spike glycoprotein,fibritin,expression tag   \n",
      "3111  spike glycoprotein,fibritin,spike glycoprotein...   \n",
      "3112  spike glycoprotein,fibritin,spike glycoprotein...   \n",
      "3113                            coagulation factor viii   \n",
      "\n",
      "                                               compound heavy_species  \\\n",
      "0       Cryo-EM structure of CB1-beta-arrestin1 complex  homo sapiens   \n",
      "1     Structure of human beta2 adrenergic receptor b...  homo sapiens   \n",
      "2     Structure of human beta2 adrenergic receptor b...  homo sapiens   \n",
      "3     Orphan receptor GPRC5D in complex with scFv150-18  homo sapiens   \n",
      "4     Orphan receptor GPRC5D in complex with scFv150-18  homo sapiens   \n",
      "...                                                 ...           ...   \n",
      "3109  Structure of XBB.1.16 S trimer with 2 down-RBD...  homo sapiens   \n",
      "3110  Structure of XBB.1.16 S trimer with 2 down-RBD...  homo sapiens   \n",
      "3111  Structure of XBB.1.16 S trimer with 3 down-RBD...  homo sapiens   \n",
      "3112  Structure of XBB.1.16 S trimer with 3 down-RBD...  homo sapiens   \n",
      "3113  Cryo-EM structure of coagulation factor VIII b...  homo sapiens   \n",
      "\n",
      "     light_species                                    antigen_species   scfv  \\\n",
      "0     homo sapiens                          bos taurus | homo sapiens  False   \n",
      "1              NaN              enterobacteria phage t4, homo sapiens  False   \n",
      "2              NaN              enterobacteria phage t4, homo sapiens  False   \n",
      "3              NaN                     escherichia coli, homo sapiens   True   \n",
      "4              NaN                     escherichia coli, homo sapiens   True   \n",
      "...            ...                                                ...    ...   \n",
      "3109  homo sapiens  severe acute respiratory syndrome coronavirus2...  False   \n",
      "3110  homo sapiens  severe acute respiratory syndrome coronavirus2...  False   \n",
      "3111  homo sapiens  severe acute respiratory syndrome coronavirus2...  False   \n",
      "3112  homo sapiens  severe acute respiratory syndrome coronavirus2...  False   \n",
      "3113  homo sapiens                           sus scrofa, homo sapiens  False   \n",
      "\n",
      "      engineered heavy_subclass light_subclass light_ctype  \n",
      "0           True          IGHV3          IGKV1       Kappa  \n",
      "1           True          IGHV1            NaN         NaN  \n",
      "2           True          IGHV1            NaN         NaN  \n",
      "3           True        unknown        unknown     unknown  \n",
      "4           True        unknown        unknown     unknown  \n",
      "...          ...            ...            ...         ...  \n",
      "3109        True          IGHV5          IGLV2      Lambda  \n",
      "3110        True          IGHV5          IGLV2      Lambda  \n",
      "3111        True          IGHV5          IGLV2      Lambda  \n",
      "3112        True          IGHV5          IGLV2      Lambda  \n",
      "3113        True          IGHV1          IGKV3       Kappa  \n",
      "\n",
      "[3114 rows x 15 columns]\n"
     ]
    }
   ],
   "source": [
    "#only keeping the rows with sarscov2 and human\n",
    "df_sars_hum = df[df[\"antigen_species\"].str.contains(\"homo sapiens|severe acute respiratory syndrome coronavirus2\", case=False, na=False)]\n",
    "#sorting by alphabetical order\n",
    "df_sars_hum= df_sars_hum.sort_values(by= \"antigen_species\", ascending= True)\n",
    "df_sars_hum = df_sars_hum.reset_index(drop= True)\n",
    "print(df_sars_hum)\n",
    "df_sars_hum.to_csv(\"df_sars_hum.csv\", sep =\"\\t\", index=False)"
   ]
  }
 ],
 "metadata": {
  "kernelspec": {
   "display_name": ".venv",
   "language": "python",
   "name": "python3"
  },
  "language_info": {
   "codemirror_mode": {
    "name": "ipython",
    "version": 3
   },
   "file_extension": ".py",
   "mimetype": "text/x-python",
   "name": "python",
   "nbconvert_exporter": "python",
   "pygments_lexer": "ipython3",
   "version": "3.12.3"
  }
 },
 "nbformat": 4,
 "nbformat_minor": 5
}
