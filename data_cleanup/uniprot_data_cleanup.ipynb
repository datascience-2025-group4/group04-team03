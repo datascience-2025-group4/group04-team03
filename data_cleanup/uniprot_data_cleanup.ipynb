{
 "cells": [
  {
   "cell_type": "code",
   "execution_count": 1,
   "id": "c58c59bf",
   "metadata": {},
   "outputs": [],
   "source": [
    "import pandas as pd\n",
    "import re\n",
    "\n",
    "#read file as a dataset, separating columns by tabs\n",
    "df = pd.read_csv(\"../data/uniprot_data.tsv\", sep = \"\\t\")\n",
    "\n",
    "#first I want to clean the column \"Protein names\" and want to only leave the short names of the proteins (w/o the brackets),but i want to have access to both full and short version of the table\n",
    "#the original dataset is stored as df_full\n",
    "df_full = df\n",
    "\n",
    "#then the coloumn needs to be cleaned from bracket, exept the ones starting w G(), as they show the G-proteins\n",
    "#new function \"clean_brackets\" is made for variable text\n",
    "def clean_brackets(text):\n",
    "    # square brackets are removed\n",
    "    text = re.sub(r'\\s*\\[.*?\\]', '', text)\n",
    "    # round brackets are removed unless they start with 'G('\n",
    "    text = re.sub(r'\\s*(?<!G)\\(.*?\\)', '', text)\n",
    "    return text.strip()\n",
    "#applying the funtion\n",
    "df_shortnames = df['Protein names'].apply(clean_brackets)\n",
    "\n",
    "#replacing the column in df_short\n",
    "df_short = df.copy()\n",
    "df_short[\"Protein names\"] = df_shortnames\n"
   ]
  },
  {
   "cell_type": "code",
   "execution_count": 3,
   "id": "4f96db72",
   "metadata": {},
   "outputs": [],
   "source": [
    "#here I just sorted the column \"Organism\" so that it is in the alphabetical\n",
    "df_sorted = df_short.sort_values(by= \"Organism\", ascending= True)"
   ]
  },
  {
   "cell_type": "code",
   "execution_count": 4,
   "id": "fd0249a8",
   "metadata": {},
   "outputs": [],
   "source": [
    "#the same clean up of the brackets i execute in the column \"Organism\"\n",
    "def clean_brackets(text):\n",
    "    # square brackets are removed\n",
    "    text = re.sub(r'\\s*\\[.*?\\]', '', text)\n",
    "    # round brackets are removed unless they start with 'G('\n",
    "    text = re.sub(r'\\s*(?<!G)\\(.*?\\)', '', text)\n",
    "    # as the previous function does not remove the brackets after G(), once more the brackets are needed to be removed\n",
    "    text = re.sub(r'[\\[\\]()]+$', '', text)\n",
    "\n",
    "    return text.strip()\n",
    "\n",
    "#applying the funtion\n",
    "df_short_organism = df_sorted['Organism'].apply(clean_brackets)\n",
    "\n",
    "#replacing the column in df_short\n",
    "df_short = df_sorted.copy()\n",
    "df_short[\"Organism\"] = df_short_organism"
   ]
  },
  {
   "cell_type": "code",
   "execution_count": null,
   "id": "f9aff9b4",
   "metadata": {},
   "outputs": [
    {
     "name": "stdout",
     "output_type": "stream",
     "text": [
      "      From       Entry    Reviewed        Entry Name  \\\n",
      "0     7xp6      P16218    reviewed        GUNH_ACET2   \n",
      "1     7xp4      P16218    reviewed        GUNH_ACET2   \n",
      "2     7xp5      P16218    reviewed        GUNH_ACET2   \n",
      "3     8u4q      P42212    reviewed         GFP_AEQVI   \n",
      "4     8u4s      P42212    reviewed         GFP_AEQVI   \n",
      "...    ...         ...         ...               ...   \n",
      "3523  8ebp      Q8B9P0  unreviewed      Q8B9P0_9MONO   \n",
      "3524  7tl0      Q8B9P0  unreviewed      Q8B9P0_9MONO   \n",
      "3525  7sem      H6X1Z0  unreviewed      H6X1Z0_9MONO   \n",
      "3526  7tjq      Q8B9P0  unreviewed      Q8B9P0_9MONO   \n",
      "3527  6b3m  A0A182DWE1  unreviewed  A0A182DWE1_9ORTO   \n",
      "\n",
      "                  Protein names      Gene Names                      Organism  \\\n",
      "0               Endoglucanase H  celH Cthe_1472      Acetivibrio thermocellus   \n",
      "1               Endoglucanase H  celH Cthe_1472      Acetivibrio thermocellus   \n",
      "2               Endoglucanase H  celH Cthe_1472      Acetivibrio thermocellus   \n",
      "3     Green fluorescent protein             GFP             Aequorea victoria   \n",
      "4     Green fluorescent protein             GFP             Aequorea victoria   \n",
      "...                         ...             ...                           ...   \n",
      "3523     Fusion glycoprotein F0               F         human metapneumovirus   \n",
      "3524     Fusion glycoprotein F0               F         human metapneumovirus   \n",
      "3525     Fusion glycoprotein F0             NaN         human metapneumovirus   \n",
      "3526     Fusion glycoprotein F0               F         human metapneumovirus   \n",
      "3527          Hemagglutinin HA2             NaN  unidentified influenza virus   \n",
      "\n",
      "      Length  \n",
      "0        900  \n",
      "1        900  \n",
      "2        900  \n",
      "3        238  \n",
      "4        238  \n",
      "...      ...  \n",
      "3523     539  \n",
      "3524     539  \n",
      "3525     494  \n",
      "3526     539  \n",
      "3527     181  \n",
      "\n",
      "[3528 rows x 8 columns]\n"
     ]
    }
   ],
   "source": [
    "#then reseting the indexes in the ascending order\n",
    "df_short = df_short.reset_index(drop= True)\n",
    "print(df_short)\n",
    "df_short.to_csv(\"data_short_preview.csv\", sep =\"\\t\", index=False)"
   ]
  },
  {
   "cell_type": "code",
   "execution_count": 6,
   "id": "3ce3bbe9",
   "metadata": {},
   "outputs": [
    {
     "name": "stdout",
     "output_type": "stream",
     "text": [
      "      From       Entry    Reviewed        Entry Name  \\\n",
      "0     7xp6      P16218    reviewed        GUNH_ACET2   \n",
      "1     7xp4      P16218    reviewed        GUNH_ACET2   \n",
      "2     7xp5      P16218    reviewed        GUNH_ACET2   \n",
      "3     8u4q      P42212    reviewed         GFP_AEQVI   \n",
      "4     8u4s      P42212    reviewed         GFP_AEQVI   \n",
      "...    ...         ...         ...               ...   \n",
      "3523  8ebp      Q8B9P0  unreviewed      Q8B9P0_9MONO   \n",
      "3524  7tl0      Q8B9P0  unreviewed      Q8B9P0_9MONO   \n",
      "3525  7sem      H6X1Z0  unreviewed      H6X1Z0_9MONO   \n",
      "3526  7tjq      Q8B9P0  unreviewed      Q8B9P0_9MONO   \n",
      "3527  6b3m  A0A182DWE1  unreviewed  A0A182DWE1_9ORTO   \n",
      "\n",
      "                                          Protein names      Gene Names  \\\n",
      "0     Endoglucanase H (EC 3.2.1.4) (Cellulase H) (En...  celH Cthe_1472   \n",
      "1     Endoglucanase H (EC 3.2.1.4) (Cellulase H) (En...  celH Cthe_1472   \n",
      "2     Endoglucanase H (EC 3.2.1.4) (Cellulase H) (En...  celH Cthe_1472   \n",
      "3                             Green fluorescent protein             GFP   \n",
      "4                             Green fluorescent protein             GFP   \n",
      "...                                                 ...             ...   \n",
      "3523                             Fusion glycoprotein F0               F   \n",
      "3524                             Fusion glycoprotein F0               F   \n",
      "3525                             Fusion glycoprotein F0             NaN   \n",
      "3526                             Fusion glycoprotein F0               F   \n",
      "3527                                  Hemagglutinin HA2             NaN   \n",
      "\n",
      "                                               Organism  Length  \n",
      "0     Acetivibrio thermocellus (strain ATCC 27405 / ...     900  \n",
      "1     Acetivibrio thermocellus (strain ATCC 27405 / ...     900  \n",
      "2     Acetivibrio thermocellus (strain ATCC 27405 / ...     900  \n",
      "3     Aequorea victoria (Water jellyfish) (Mesonema ...     238  \n",
      "4     Aequorea victoria (Water jellyfish) (Mesonema ...     238  \n",
      "...                                                 ...     ...  \n",
      "3523                              human metapneumovirus     539  \n",
      "3524                              human metapneumovirus     539  \n",
      "3525                              human metapneumovirus     494  \n",
      "3526                              human metapneumovirus     539  \n",
      "3527                       unidentified influenza virus     181  \n",
      "\n",
      "[3528 rows x 8 columns]\n"
     ]
    }
   ],
   "source": [
    "#the original dataset is stored as df_full and is also sorted by organisms, however the brackets are not deleted\n",
    "df_full = df.sort_values(by= \"Organism\", ascending= True)\n",
    "df_full = df_full.reset_index(drop= True)\n",
    "print(df_full)"
   ]
  },
  {
   "cell_type": "code",
   "execution_count": 7,
   "id": "982dbbb2",
   "metadata": {},
   "outputs": [
    {
     "data": {
      "text/plain": [
       "800"
      ]
     },
     "execution_count": 7,
     "metadata": {},
     "output_type": "execute_result"
    }
   ],
   "source": [
    "sum(df_short[\"Reviewed\"] == \"unreviewed\")"
   ]
  },
  {
   "cell_type": "code",
   "execution_count": 9,
   "id": "69cca26f",
   "metadata": {},
   "outputs": [
    {
     "name": "stdout",
     "output_type": "stream",
     "text": [
      "      From       Entry  Reviewed  Entry Name              Protein names  \\\n",
      "0     7xp6      P16218  reviewed  GUNH_ACET2            Endoglucanase H   \n",
      "1     7xp4      P16218  reviewed  GUNH_ACET2            Endoglucanase H   \n",
      "2     7xp5      P16218  reviewed  GUNH_ACET2            Endoglucanase H   \n",
      "3     8u4q      P42212  reviewed   GFP_AEQVI  Green fluorescent protein   \n",
      "4     8u4s      P42212  reviewed   GFP_AEQVI  Green fluorescent protein   \n",
      "...    ...         ...       ...         ...                        ...   \n",
      "3495  7bu8  A0A024B7W1  reviewed  POLG_ZIKVF         Genome polyprotein   \n",
      "3496  6plk  A0A024B7W1  reviewed  POLG_ZIKVF         Genome polyprotein   \n",
      "3497  7t17  A0A024B7W1  reviewed  POLG_ZIKVF         Genome polyprotein   \n",
      "3498  5h37  A0A024B7W1  reviewed  POLG_ZIKVF         Genome polyprotein   \n",
      "3499  5lcv  A0A024B7W1  reviewed  POLG_ZIKVF         Genome polyprotein   \n",
      "\n",
      "          Gene Names                  Organism  Length  \n",
      "0     celH Cthe_1472  Acetivibrio thermocellus     900  \n",
      "1     celH Cthe_1472  Acetivibrio thermocellus     900  \n",
      "2     celH Cthe_1472  Acetivibrio thermocellus     900  \n",
      "3                GFP         Aequorea victoria     238  \n",
      "4                GFP         Aequorea victoria     238  \n",
      "...              ...                       ...     ...  \n",
      "3495             NaN                Zika virus    3423  \n",
      "3496             NaN                Zika virus    3423  \n",
      "3497             NaN                Zika virus    3423  \n",
      "3498             NaN                Zika virus    3423  \n",
      "3499             NaN                Zika virus    3423  \n",
      "\n",
      "[2728 rows x 8 columns]\n"
     ]
    }
   ],
   "source": [
    "#if we want a dataframe only having the reviewed proteins\n",
    "df_short_reviewed = df_short[df_short[\"Reviewed\"] != \"unreviewed\"]\n",
    "print(df_short_reviewed)\n",
    "df_short_reviewed.to_csv(\"data_short_reviewed_preview.csv\", sep =\"\\t\", index=False)"
   ]
  }
 ],
 "metadata": {
  "kernelspec": {
   "display_name": ".venv",
   "language": "python",
   "name": "python3"
  },
  "language_info": {
   "codemirror_mode": {
    "name": "ipython",
    "version": 3
   },
   "file_extension": ".py",
   "mimetype": "text/x-python",
   "name": "python",
   "nbconvert_exporter": "python",
   "pygments_lexer": "ipython3",
   "version": "3.12.3"
  }
 },
 "nbformat": 4,
 "nbformat_minor": 5
}
